{
  "nbformat": 4,
  "nbformat_minor": 0,
  "metadata": {
    "colab": {
      "name": "laser_twitter.ipynb",
      "provenance": [],
      "collapsed_sections": [],
      "authorship_tag": "ABX9TyP6WCiyrcwrPcGkv4xZjxld"
    },
    "kernelspec": {
      "name": "python3",
      "display_name": "Python 3"
    },
    "accelerator": "GPU"
  },
  "cells": [
    {
      "cell_type": "markdown",
      "metadata": {
        "id": "ppJK-yPLWDt9",
        "colab_type": "text"
      },
      "source": [
        "These results will be more interpretable if the usernames are recognizable - I found [a small dataset of tweets by US politicians](https://www.kaggle.com/kapastor/democratvsrepublicantweets) that should work well.\n",
        "\n",
        "Given the size of the data, it wouldn't make sense to train embeddings from scratch so let's focus on LASER."
      ]
    },
    {
      "cell_type": "code",
      "metadata": {
        "id": "2FQv6MH8IiOw",
        "colab_type": "code",
        "outputId": "7e124140-8171-40fc-a22f-f5dd73dc1c8a",
        "colab": {
          "base_uri": "https://localhost:8080/",
          "height": 433
        }
      },
      "source": [
        "!pip install laserembeddings\n",
        "!python -m laserembeddings download-models"
      ],
      "execution_count": 1,
      "outputs": [
        {
          "output_type": "stream",
          "text": [
            "Requirement already satisfied: laserembeddings in /usr/local/lib/python3.6/dist-packages (1.0.1)\n",
            "Requirement already satisfied: sacremoses==0.0.35 in /usr/local/lib/python3.6/dist-packages (from laserembeddings) (0.0.35)\n",
            "Requirement already satisfied: transliterate==1.10.2 in /usr/local/lib/python3.6/dist-packages (from laserembeddings) (1.10.2)\n",
            "Requirement already satisfied: subword-nmt<0.4.0,>=0.3.6 in /usr/local/lib/python3.6/dist-packages (from laserembeddings) (0.3.7)\n",
            "Requirement already satisfied: torch<2.0.0,>=1.0.1.post2 in /usr/local/lib/python3.6/dist-packages (from laserembeddings) (1.5.0+cu101)\n",
            "Requirement already satisfied: numpy<2.0.0,>=1.15.4 in /usr/local/lib/python3.6/dist-packages (from laserembeddings) (1.18.3)\n",
            "Requirement already satisfied: click in /usr/local/lib/python3.6/dist-packages (from sacremoses==0.0.35->laserembeddings) (7.1.2)\n",
            "Requirement already satisfied: tqdm in /usr/local/lib/python3.6/dist-packages (from sacremoses==0.0.35->laserembeddings) (4.38.0)\n",
            "Requirement already satisfied: joblib in /usr/local/lib/python3.6/dist-packages (from sacremoses==0.0.35->laserembeddings) (0.14.1)\n",
            "Requirement already satisfied: six in /usr/local/lib/python3.6/dist-packages (from sacremoses==0.0.35->laserembeddings) (1.12.0)\n",
            "Requirement already satisfied: future in /usr/local/lib/python3.6/dist-packages (from torch<2.0.0,>=1.0.1.post2->laserembeddings) (0.16.0)\n",
            "Downloading models into /usr/local/lib/python3.6/dist-packages/laserembeddings/data\n",
            "\n",
            "✅   Downloaded https://dl.fbaipublicfiles.com/laser/models/93langs.fcodes    \n",
            "✅   Downloaded https://dl.fbaipublicfiles.com/laser/models/93langs.fvocab    \n",
            "✅   Downloaded https://dl.fbaipublicfiles.com/laser/models/bilstm.93langs.2018-12-26.pt    \n",
            "\n",
            "✨ You're all set!\n"
          ],
          "name": "stdout"
        }
      ]
    },
    {
      "cell_type": "code",
      "metadata": {
        "id": "mxJlkCrzJG8k",
        "colab_type": "code",
        "outputId": "ebb9ad13-3218-40be-f3ae-791ae7de4708",
        "colab": {
          "base_uri": "https://localhost:8080/",
          "height": 91
        }
      },
      "source": [
        "import pandas as pd\n",
        "import numpy as np\n",
        "import laserembeddings\n",
        "\n",
        "import matplotlib.pyplot as plt\n",
        "import seaborn as sns\n",
        "%matplotlib inline"
      ],
      "execution_count": 2,
      "outputs": [
        {
          "output_type": "stream",
          "text": [
            "/usr/local/lib/python3.6/dist-packages/statsmodels/tools/_testing.py:19: FutureWarning: pandas.util.testing is deprecated. Use the functions in the public API at pandas.testing instead.\n",
            "  import pandas.util.testing as tm\n"
          ],
          "name": "stderr"
        }
      ]
    },
    {
      "cell_type": "code",
      "metadata": {
        "id": "CjdU5Pk1dXUJ",
        "colab_type": "code",
        "colab": {
          "base_uri": "https://localhost:8080/",
          "height": 74
        },
        "outputId": "10cde2bf-1238-4e39-fabe-5db3cc632eed"
      },
      "source": [
        "from google.colab import drive\n",
        "\n",
        "drive.mount('/content/gdrive')"
      ],
      "execution_count": 3,
      "outputs": [
        {
          "output_type": "stream",
          "text": [
            "Drive already mounted at /content/gdrive; to attempt to forcibly remount, call drive.mount(\"/content/gdrive\", force_remount=True).\n"
          ],
          "name": "stdout"
        }
      ]
    },
    {
      "cell_type": "code",
      "metadata": {
        "id": "RFbdE5-SJHPV",
        "colab_type": "code",
        "outputId": "b7635b85-2577-4ae1-a191-cc3152cd3629",
        "colab": {
          "base_uri": "https://localhost:8080/",
          "height": 204
        }
      },
      "source": [
        "df = pd.read_csv('gdrive/My Drive/ExtractedTweets.csv')\n",
        "\n",
        "df.head()"
      ],
      "execution_count": 4,
      "outputs": [
        {
          "output_type": "execute_result",
          "data": {
            "text/html": [
              "<div>\n",
              "<style scoped>\n",
              "    .dataframe tbody tr th:only-of-type {\n",
              "        vertical-align: middle;\n",
              "    }\n",
              "\n",
              "    .dataframe tbody tr th {\n",
              "        vertical-align: top;\n",
              "    }\n",
              "\n",
              "    .dataframe thead th {\n",
              "        text-align: right;\n",
              "    }\n",
              "</style>\n",
              "<table border=\"1\" class=\"dataframe\">\n",
              "  <thead>\n",
              "    <tr style=\"text-align: right;\">\n",
              "      <th></th>\n",
              "      <th>Party</th>\n",
              "      <th>Handle</th>\n",
              "      <th>Tweet</th>\n",
              "    </tr>\n",
              "  </thead>\n",
              "  <tbody>\n",
              "    <tr>\n",
              "      <th>0</th>\n",
              "      <td>Democrat</td>\n",
              "      <td>RepDarrenSoto</td>\n",
              "      <td>Today, Senate Dems vote to #SaveTheInternet. P...</td>\n",
              "    </tr>\n",
              "    <tr>\n",
              "      <th>1</th>\n",
              "      <td>Democrat</td>\n",
              "      <td>RepDarrenSoto</td>\n",
              "      <td>RT @WinterHavenSun: Winter Haven resident / Al...</td>\n",
              "    </tr>\n",
              "    <tr>\n",
              "      <th>2</th>\n",
              "      <td>Democrat</td>\n",
              "      <td>RepDarrenSoto</td>\n",
              "      <td>RT @NBCLatino: .@RepDarrenSoto noted that Hurr...</td>\n",
              "    </tr>\n",
              "    <tr>\n",
              "      <th>3</th>\n",
              "      <td>Democrat</td>\n",
              "      <td>RepDarrenSoto</td>\n",
              "      <td>RT @NALCABPolicy: Meeting with @RepDarrenSoto ...</td>\n",
              "    </tr>\n",
              "    <tr>\n",
              "      <th>4</th>\n",
              "      <td>Democrat</td>\n",
              "      <td>RepDarrenSoto</td>\n",
              "      <td>RT @Vegalteno: Hurricane season starts on June...</td>\n",
              "    </tr>\n",
              "  </tbody>\n",
              "</table>\n",
              "</div>"
            ],
            "text/plain": [
              "      Party         Handle                                              Tweet\n",
              "0  Democrat  RepDarrenSoto  Today, Senate Dems vote to #SaveTheInternet. P...\n",
              "1  Democrat  RepDarrenSoto  RT @WinterHavenSun: Winter Haven resident / Al...\n",
              "2  Democrat  RepDarrenSoto  RT @NBCLatino: .@RepDarrenSoto noted that Hurr...\n",
              "3  Democrat  RepDarrenSoto  RT @NALCABPolicy: Meeting with @RepDarrenSoto ...\n",
              "4  Democrat  RepDarrenSoto  RT @Vegalteno: Hurricane season starts on June..."
            ]
          },
          "metadata": {
            "tags": []
          },
          "execution_count": 4
        }
      ]
    },
    {
      "cell_type": "code",
      "metadata": {
        "id": "CaiKdOwlaNxK",
        "colab_type": "code",
        "colab": {
          "base_uri": "https://localhost:8080/",
          "height": 221
        },
        "outputId": "b5f01454-2dea-4787-fcb6-6a4bfbfe4a4c"
      },
      "source": [
        "df.Handle.value_counts()"
      ],
      "execution_count": 5,
      "outputs": [
        {
          "output_type": "execute_result",
          "data": {
            "text/plain": [
              "RulesReps         200\n",
              "RepKihuen         200\n",
              "RepMcEachin       200\n",
              "RepGutierrez      200\n",
              "RepHuffman        200\n",
              "                 ... \n",
              "GKButterfield     199\n",
              "JudgeTedPoe       199\n",
              "Jim_Jordan        197\n",
              "RepVisclosky      197\n",
              "collinpeterson     80\n",
              "Name: Handle, Length: 433, dtype: int64"
            ]
          },
          "metadata": {
            "tags": []
          },
          "execution_count": 5
        }
      ]
    },
    {
      "cell_type": "code",
      "metadata": {
        "id": "1xSOHZB-duft",
        "colab_type": "code",
        "colab": {
          "base_uri": "https://localhost:8080/",
          "height": 204
        },
        "outputId": "9801c28f-b0ba-434b-c1e7-6d7dd753ee54"
      },
      "source": [
        "#Let's use a modified version of the preprocessing function - we only need the grouped dataframe here\n",
        "def _preprocess(df):\n",
        "\n",
        "  df['text'] = df.Tweet.str.lower()\n",
        "  df_grouped = df.groupby('Handle')['text'].apply(lambda x: ' '.join(x)).reset_index()\n",
        "  df_grouped['Party'] = df[['Handle','Party']].drop_duplicates().sort_values('Handle')['Party'].values\n",
        "\n",
        "  return df_grouped\n",
        "\n",
        "df_grouped = _preprocess(df)\n",
        "\n",
        "df_grouped.head()"
      ],
      "execution_count": 6,
      "outputs": [
        {
          "output_type": "execute_result",
          "data": {
            "text/html": [
              "<div>\n",
              "<style scoped>\n",
              "    .dataframe tbody tr th:only-of-type {\n",
              "        vertical-align: middle;\n",
              "    }\n",
              "\n",
              "    .dataframe tbody tr th {\n",
              "        vertical-align: top;\n",
              "    }\n",
              "\n",
              "    .dataframe thead th {\n",
              "        text-align: right;\n",
              "    }\n",
              "</style>\n",
              "<table border=\"1\" class=\"dataframe\">\n",
              "  <thead>\n",
              "    <tr style=\"text-align: right;\">\n",
              "      <th></th>\n",
              "      <th>Handle</th>\n",
              "      <th>text</th>\n",
              "      <th>Party</th>\n",
              "    </tr>\n",
              "  </thead>\n",
              "  <tbody>\n",
              "    <tr>\n",
              "      <th>0</th>\n",
              "      <td>AGBecerra</td>\n",
              "      <td>#breaking: court just granted our motion to in...</td>\n",
              "      <td>Democrat</td>\n",
              "    </tr>\n",
              "    <tr>\n",
              "      <th>1</th>\n",
              "      <td>AlanGrayson</td>\n",
              "      <td>rt @drdenagrayson: 📻tune in📻\\n\\nmy hubby, @ala...</td>\n",
              "      <td>Democrat</td>\n",
              "    </tr>\n",
              "    <tr>\n",
              "      <th>2</th>\n",
              "      <td>AnthonyBrownMD4</td>\n",
              "      <td>@kfile i've had the privilege of serving w som...</td>\n",
              "      <td>Democrat</td>\n",
              "    </tr>\n",
              "    <tr>\n",
              "      <th>3</th>\n",
              "      <td>AustinScottGA08</td>\n",
              "      <td>this week, we have the opportunity to bring me...</td>\n",
              "      <td>Republican</td>\n",
              "    </tr>\n",
              "    <tr>\n",
              "      <th>4</th>\n",
              "      <td>BennieGThompson</td>\n",
              "      <td>rt @govtrack: h.r. 4895 by @benniegthompson pa...</td>\n",
              "      <td>Democrat</td>\n",
              "    </tr>\n",
              "  </tbody>\n",
              "</table>\n",
              "</div>"
            ],
            "text/plain": [
              "            Handle  ...       Party\n",
              "0        AGBecerra  ...    Democrat\n",
              "1      AlanGrayson  ...    Democrat\n",
              "2  AnthonyBrownMD4  ...    Democrat\n",
              "3  AustinScottGA08  ...  Republican\n",
              "4  BennieGThompson  ...    Democrat\n",
              "\n",
              "[5 rows x 3 columns]"
            ]
          },
          "metadata": {
            "tags": []
          },
          "execution_count": 6
        }
      ]
    },
    {
      "cell_type": "code",
      "metadata": {
        "id": "GmQmTB09J0lc",
        "colab_type": "code",
        "colab": {}
      },
      "source": [
        "from laserembeddings import Laser\n",
        "\n",
        "laser = Laser()\n",
        "\n",
        "#for speed, only looking at the first 7000 characters - this still takes a while even on GPU\n",
        "author_vectors = [laser.embed_sentences([t[:7000]], lang='en') for t in df_grouped.text]"
      ],
      "execution_count": 0,
      "outputs": []
    },
    {
      "cell_type": "code",
      "metadata": {
        "id": "u5rti6E2TkMd",
        "colab_type": "code",
        "colab": {}
      },
      "source": [
        "author_vectors = [np.concatenate(x) for x in author_vectors]"
      ],
      "execution_count": 0,
      "outputs": []
    },
    {
      "cell_type": "code",
      "metadata": {
        "id": "_fUkhdDMJ0qx",
        "colab_type": "code",
        "colab": {}
      },
      "source": [
        "from sklearn.manifold import TSNE\n",
        "\n",
        "tsne = TSNE(n_components=2, init='pca')\n",
        "tsne_results = tsne.fit_transform(author_vectors)\n",
        "\n",
        "df_grouped['tsne_x'] = tsne_results[:,0]\n",
        "df_grouped['tsne_y'] = tsne_results[:,1]"
      ],
      "execution_count": 0,
      "outputs": []
    },
    {
      "cell_type": "code",
      "metadata": {
        "id": "Tg2z0E2IT4iD",
        "colab_type": "code",
        "colab": {
          "base_uri": "https://localhost:8080/",
          "height": 623
        },
        "outputId": "f670e020-197e-43e0-9acb-ac21bc27e5be"
      },
      "source": [
        "plt.figure(figsize=(16,10))\n",
        "sns.scatterplot(\n",
        "    x='tsne_x', y='tsne_y',\n",
        "    hue='Party',\n",
        "    data=df_grouped,\n",
        "    legend=\"full\")"
      ],
      "execution_count": 10,
      "outputs": [
        {
          "output_type": "execute_result",
          "data": {
            "text/plain": [
              "<matplotlib.axes._subplots.AxesSubplot at 0x7f99ec6dbe80>"
            ]
          },
          "metadata": {
            "tags": []
          },
          "execution_count": 10
        },
        {
          "output_type": "display_data",
          "data": {
            "image/png": "[encoded data removed]",
            "text/plain": [
              "<Figure size 1152x720 with 1 Axes>"
            ]
          },
          "metadata": {
            "tags": [],
            "needs_background": "light"
          }
        }
      ]
    },
    {
      "cell_type": "code",
      "metadata": {
        "id": "-vOuZoSNT8lL",
        "colab_type": "code",
        "colab": {}
      },
      "source": [
        "from sklearn.metrics.pairwise import cosine_distances\n",
        "\n",
        "author_distances = pd.DataFrame(\n",
        "    cosine_distances(author_vectors, author_vectors)\n",
        ")\n",
        "\n",
        "author_distances_v2 = author_distances.replace(0, np.nan)\n",
        "\n",
        "#Let's select some prominent politicians, to make the results interpretable\n",
        "author_indices = df_grouped.index[df_grouped.Handle.isin(['NancyPelosi','RepAdamSchiff','RepBetoORourke','GOPLeader','SpeakerRyan','SteveKingIA'])]\n",
        "author_distances_test = author_distances_v2[author_distances_v2.index.isin(author_indices)]"
      ],
      "execution_count": 0,
      "outputs": []
    },
    {
      "cell_type": "code",
      "metadata": {
        "id": "vLPIWY0qSjZs",
        "colab_type": "code",
        "colab": {
          "base_uri": "https://localhost:8080/",
          "height": 235
        },
        "outputId": "edac7289-3a0d-4fb0-c28c-31c6a0213f90"
      },
      "source": [
        "pd.set_option('display.max_colwidth', 100)\n",
        "\n",
        "most_similar_cosine = pd.DataFrame()\n",
        "\n",
        "for i, row in author_distances_test.iterrows():\n",
        "  most_similar = np.argsort(row.values)[:4]\n",
        "  most_similar_authors = []\n",
        "  most_similar_parties = []\n",
        "  for s in most_similar:\n",
        "    author = str(df_grouped.Handle[s])\n",
        "    most_similar_authors.append(author)\n",
        "    party = str(df_grouped.Party[s])\n",
        "    most_similar_parties.append(party)\n",
        "  most_similar_i = pd.DataFrame({'original':df_grouped.Handle[i],\n",
        "                                 'most_similar':', '.join(most_similar_authors),\n",
        "                                 'most_similar_party':', '.join(most_similar_parties)}, index=[0])\n",
        "  most_similar_cosine = most_similar_cosine.append(most_similar_i)\n",
        "\n",
        "most_similar_cosine"
      ],
      "execution_count": 13,
      "outputs": [
        {
          "output_type": "execute_result",
          "data": {
            "text/html": [
              "<div>\n",
              "<style scoped>\n",
              "    .dataframe tbody tr th:only-of-type {\n",
              "        vertical-align: middle;\n",
              "    }\n",
              "\n",
              "    .dataframe tbody tr th {\n",
              "        vertical-align: top;\n",
              "    }\n",
              "\n",
              "    .dataframe thead th {\n",
              "        text-align: right;\n",
              "    }\n",
              "</style>\n",
              "<table border=\"1\" class=\"dataframe\">\n",
              "  <thead>\n",
              "    <tr style=\"text-align: right;\">\n",
              "      <th></th>\n",
              "      <th>original</th>\n",
              "      <th>most_similar</th>\n",
              "      <th>most_similar_party</th>\n",
              "    </tr>\n",
              "  </thead>\n",
              "  <tbody>\n",
              "    <tr>\n",
              "      <th>0</th>\n",
              "      <td>GOPLeader</td>\n",
              "      <td>RepRoybalAllard, RepTipton, keithellison, SteveScalise</td>\n",
              "      <td>Democrat, Republican, Democrat, Republican</td>\n",
              "    </tr>\n",
              "    <tr>\n",
              "      <th>0</th>\n",
              "      <td>NancyPelosi</td>\n",
              "      <td>RepAbraham, RepKClark, RepJackyRosen, RepScottPeters</td>\n",
              "      <td>Republican, Democrat, Democrat, Democrat</td>\n",
              "    </tr>\n",
              "    <tr>\n",
              "      <th>0</th>\n",
              "      <td>RepAdamSchiff</td>\n",
              "      <td>DrNealDunnFL2, USRepGaryPalmer, RepKristiNoem, RepWebster</td>\n",
              "      <td>Republican, Republican, Republican, Republican</td>\n",
              "    </tr>\n",
              "    <tr>\n",
              "      <th>0</th>\n",
              "      <td>RepBetoORourke</td>\n",
              "      <td>RepJuanVargas, RepMarkWalker, RepRickAllen, RepCicilline</td>\n",
              "      <td>Democrat, Republican, Republican, Democrat</td>\n",
              "    </tr>\n",
              "    <tr>\n",
              "      <th>0</th>\n",
              "      <td>SpeakerRyan</td>\n",
              "      <td>RepHuizenga, repdinatitus, RepCharlieCrist, RepTomRice</td>\n",
              "      <td>Republican, Democrat, Democrat, Republican</td>\n",
              "    </tr>\n",
              "    <tr>\n",
              "      <th>0</th>\n",
              "      <td>SteveKingIA</td>\n",
              "      <td>keithellison, RepRoybalAllard, RepTipton, janschakowsky</td>\n",
              "      <td>Democrat, Democrat, Republican, Democrat</td>\n",
              "    </tr>\n",
              "  </tbody>\n",
              "</table>\n",
              "</div>"
            ],
            "text/plain": [
              "         original  ...                              most_similar_party\n",
              "0       GOPLeader  ...      Democrat, Republican, Democrat, Republican\n",
              "0     NancyPelosi  ...        Republican, Democrat, Democrat, Democrat\n",
              "0   RepAdamSchiff  ...  Republican, Republican, Republican, Republican\n",
              "0  RepBetoORourke  ...      Democrat, Republican, Republican, Democrat\n",
              "0     SpeakerRyan  ...      Republican, Democrat, Democrat, Republican\n",
              "0     SteveKingIA  ...        Democrat, Democrat, Republican, Democrat\n",
              "\n",
              "[6 rows x 3 columns]"
            ]
          },
          "metadata": {
            "tags": []
          },
          "execution_count": 13
        }
      ]
    },
    {
      "cell_type": "code",
      "metadata": {
        "id": "jsbUUrfjSjcg",
        "colab_type": "code",
        "colab": {
          "base_uri": "https://localhost:8080/",
          "height": 80
        },
        "outputId": "fbe514c0-e6ce-46c3-ff54-f85dc25c52de"
      },
      "source": [
        "!pip install faiss-cpu --no-cache"
      ],
      "execution_count": 14,
      "outputs": [
        {
          "output_type": "stream",
          "text": [
            "Requirement already satisfied: faiss-cpu in /usr/local/lib/python3.6/dist-packages (1.6.3)\n",
            "Requirement already satisfied: numpy in /usr/local/lib/python3.6/dist-packages (from faiss-cpu) (1.18.3)\n"
          ],
          "name": "stdout"
        }
      ]
    },
    {
      "cell_type": "code",
      "metadata": {
        "id": "OQ2j9alNSje4",
        "colab_type": "code",
        "colab": {
          "base_uri": "https://localhost:8080/",
          "height": 34
        },
        "outputId": "f4c097ef-e530-4e70-fc1a-4a741640ef72"
      },
      "source": [
        "import faiss      \n",
        "\n",
        "query_vectors = []\n",
        "for a in author_indices:\n",
        "  query_vectors.append(author_vectors[a])\n",
        "\n",
        "database_vectors = author_vectors\n",
        "for a in author_indices:\n",
        "  del database_vectors[a]\n",
        "\n",
        "vector_size = 1024                                      \n",
        "             \n",
        "index = faiss.IndexFlatL2(vector_size) \n",
        "print(index.is_trained)"
      ],
      "execution_count": 15,
      "outputs": [
        {
          "output_type": "stream",
          "text": [
            "True\n"
          ],
          "name": "stdout"
        }
      ]
    },
    {
      "cell_type": "code",
      "metadata": {
        "id": "39QFf-7xSjlC",
        "colab_type": "code",
        "colab": {
          "base_uri": "https://localhost:8080/",
          "height": 34
        },
        "outputId": "6544d3f3-2ede-4587-ee6b-d2021c25efbc"
      },
      "source": [
        "database_vector = np.array(database_vectors, dtype='float32')\n",
        "query_vector = np.array(query_vectors, dtype='float32')\n",
        "index.add(database_vector)                 \n",
        "print(index.ntotal)"
      ],
      "execution_count": 16,
      "outputs": [
        {
          "output_type": "stream",
          "text": [
            "427\n"
          ],
          "name": "stdout"
        }
      ]
    },
    {
      "cell_type": "code",
      "metadata": {
        "id": "pxdmcMf9SjiK",
        "colab_type": "code",
        "colab": {
          "base_uri": "https://localhost:8080/",
          "height": 235
        },
        "outputId": "34fc55f4-839f-4075-e85e-2ae7a5fbbe4f"
      },
      "source": [
        "\n",
        "#The search method searches for the n nearest vectors to the query vector\n",
        "distance, sim_index = index.search(query_vector, 4)\n",
        "\n",
        "most_similar_faiss = pd.DataFrame()\n",
        "\n",
        "for i, row in enumerate(author_indices):\n",
        "  most_similar_authors = []\n",
        "  most_similar_parties = []\n",
        "  for s in sim_index[i]:\n",
        "    author = str(df_grouped.Handle[s])\n",
        "    most_similar_authors.append(author)\n",
        "    party = str(df_grouped.Party[s])\n",
        "    most_similar_parties.append(party)\n",
        "  most_similar_i = pd.DataFrame({'original':df_grouped.Handle[row],\n",
        "                                 'most_similar':', '.join(most_similar_authors),\n",
        "                                 'most_similar_party':', '.join(most_similar_parties)}, index=[0])\n",
        "  most_similar_faiss = most_similar_faiss.append(most_similar_i)\n",
        "\n",
        "most_similar_faiss"
      ],
      "execution_count": 17,
      "outputs": [
        {
          "output_type": "execute_result",
          "data": {
            "text/html": [
              "<div>\n",
              "<style scoped>\n",
              "    .dataframe tbody tr th:only-of-type {\n",
              "        vertical-align: middle;\n",
              "    }\n",
              "\n",
              "    .dataframe tbody tr th {\n",
              "        vertical-align: top;\n",
              "    }\n",
              "\n",
              "    .dataframe thead th {\n",
              "        text-align: right;\n",
              "    }\n",
              "</style>\n",
              "<table border=\"1\" class=\"dataframe\">\n",
              "  <thead>\n",
              "    <tr style=\"text-align: right;\">\n",
              "      <th></th>\n",
              "      <th>original</th>\n",
              "      <th>most_similar</th>\n",
              "      <th>most_similar_party</th>\n",
              "    </tr>\n",
              "  </thead>\n",
              "  <tbody>\n",
              "    <tr>\n",
              "      <th>0</th>\n",
              "      <td>GOPLeader</td>\n",
              "      <td>RepRoKhanna, RepSusanDavis, RepDougCollins, SanfordBishop</td>\n",
              "      <td>Democrat, Democrat, Republican, Democrat</td>\n",
              "    </tr>\n",
              "    <tr>\n",
              "      <th>0</th>\n",
              "      <td>NancyPelosi</td>\n",
              "      <td>MikeKellyPA, RepJoseSerrano, PeterWelch, RepHuizenga</td>\n",
              "      <td>Republican, Democrat, Democrat, Republican</td>\n",
              "    </tr>\n",
              "    <tr>\n",
              "      <th>0</th>\n",
              "      <td>RepAdamSchiff</td>\n",
              "      <td>Raul_Labrador, DrNealDunnFL2, TXRandy14, RepTedLieu</td>\n",
              "      <td>Republican, Republican, Republican, Democrat</td>\n",
              "    </tr>\n",
              "    <tr>\n",
              "      <th>0</th>\n",
              "      <td>RepBetoORourke</td>\n",
              "      <td>RepBarragan, RepJohnLarson, RepRaulGrijalva, chakafattah</td>\n",
              "      <td>Democrat, Democrat, Democrat, Democrat</td>\n",
              "    </tr>\n",
              "    <tr>\n",
              "      <th>0</th>\n",
              "      <td>SpeakerRyan</td>\n",
              "      <td>RosLehtinen, RepHastingsFL, RepOHalleran, RepByrne</td>\n",
              "      <td>Republican, Democrat, Democrat, Republican</td>\n",
              "    </tr>\n",
              "    <tr>\n",
              "      <th>0</th>\n",
              "      <td>SteveKingIA</td>\n",
              "      <td>SamsPressShop, davereichert, RepThomasMassie, daveloebsack</td>\n",
              "      <td>Republican, Republican, Republican, Democrat</td>\n",
              "    </tr>\n",
              "  </tbody>\n",
              "</table>\n",
              "</div>"
            ],
            "text/plain": [
              "         original  ...                            most_similar_party\n",
              "0       GOPLeader  ...      Democrat, Democrat, Republican, Democrat\n",
              "0     NancyPelosi  ...    Republican, Democrat, Democrat, Republican\n",
              "0   RepAdamSchiff  ...  Republican, Republican, Republican, Democrat\n",
              "0  RepBetoORourke  ...        Democrat, Democrat, Democrat, Democrat\n",
              "0     SpeakerRyan  ...    Republican, Democrat, Democrat, Republican\n",
              "0     SteveKingIA  ...  Republican, Republican, Republican, Democrat\n",
              "\n",
              "[6 rows x 3 columns]"
            ]
          },
          "metadata": {
            "tags": []
          },
          "execution_count": 17
        }
      ]
    },
    {
      "cell_type": "code",
      "metadata": {
        "id": "QI7Qunx2A2FX",
        "colab_type": "code",
        "colab": {}
      },
      "source": [
        ""
      ],
      "execution_count": 0,
      "outputs": []
    }
  ]
}