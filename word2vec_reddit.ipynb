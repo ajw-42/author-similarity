{
  "nbformat": 4,
  "nbformat_minor": 0,
  "metadata": {
    "colab": {
      "name": "word2vec_reddit.ipynb",
      "provenance": [],
      "collapsed_sections": [],
      "authorship_tag": "ABX9TyNfmhJql2/YM5Gn0M09SQhz"
    },
    "kernelspec": {
      "name": "python3",
      "display_name": "Python 3"
    }
  },
  "cells": [
    {
      "cell_type": "code",
      "metadata": {
        "id": "mTcyPgWPoNPD",
        "colab_type": "code",
        "outputId": "7973def8-fc00-4111-da04-638ed34f7cbd",
        "colab": {
          "base_uri": "https://localhost:8080/",
          "height": 91
        }
      },
      "source": [
        "import pandas as pd\n",
        "import numpy as np\n",
        "\n",
        "import matplotlib.pyplot as plt\n",
        "import seaborn as sns\n",
        "%matplotlib inline"
      ],
      "execution_count": 1,
      "outputs": [
        {
          "output_type": "stream",
          "text": [
            "/usr/local/lib/python3.6/dist-packages/statsmodels/tools/_testing.py:19: FutureWarning: pandas.util.testing is deprecated. Use the functions in the public API at pandas.testing instead.\n",
            "  import pandas.util.testing as tm\n"
          ],
          "name": "stderr"
        }
      ]
    },
    {
      "cell_type": "code",
      "metadata": {
        "id": "-jc9bS1xxRDE",
        "colab_type": "code",
        "outputId": "da7591ce-6488-44d7-9396-936b76cfc772",
        "colab": {
          "base_uri": "https://localhost:8080/",
          "height": 74
        }
      },
      "source": [
        "from google.colab import drive\n",
        "\n",
        "drive.mount('/content/gdrive')"
      ],
      "execution_count": 2,
      "outputs": [
        {
          "output_type": "stream",
          "text": [
            "Drive already mounted at /content/gdrive; to attempt to forcibly remount, call drive.mount(\"/content/gdrive\", force_remount=True).\n"
          ],
          "name": "stdout"
        }
      ]
    },
    {
      "cell_type": "markdown",
      "metadata": {
        "id": "lq9_GXN70BIh",
        "colab_type": "text"
      },
      "source": [
        "This dataset has just over 500,000 rows - to make these notebooks run a bit more quickly, I use 100,000 rows at most. This still offers plenty of post authors!"
      ]
    },
    {
      "cell_type": "code",
      "metadata": {
        "id": "GiyOuQn_y_pR",
        "colab_type": "code",
        "outputId": "49c1d89a-33ab-4df1-ba41-1482dea07a84",
        "colab": {
          "base_uri": "https://localhost:8080/",
          "height": 204
        }
      },
      "source": [
        "df = pd.read_csv('gdrive/My Drive/reddit_worldnews_start_to_2016-11-22.csv')[:100000]\n",
        "\n",
        "df.head()"
      ],
      "execution_count": 3,
      "outputs": [
        {
          "output_type": "execute_result",
          "data": {
            "text/html": [
              "<div>\n",
              "<style scoped>\n",
              "    .dataframe tbody tr th:only-of-type {\n",
              "        vertical-align: middle;\n",
              "    }\n",
              "\n",
              "    .dataframe tbody tr th {\n",
              "        vertical-align: top;\n",
              "    }\n",
              "\n",
              "    .dataframe thead th {\n",
              "        text-align: right;\n",
              "    }\n",
              "</style>\n",
              "<table border=\"1\" class=\"dataframe\">\n",
              "  <thead>\n",
              "    <tr style=\"text-align: right;\">\n",
              "      <th></th>\n",
              "      <th>time_created</th>\n",
              "      <th>date_created</th>\n",
              "      <th>up_votes</th>\n",
              "      <th>down_votes</th>\n",
              "      <th>title</th>\n",
              "      <th>over_18</th>\n",
              "      <th>author</th>\n",
              "      <th>subreddit</th>\n",
              "    </tr>\n",
              "  </thead>\n",
              "  <tbody>\n",
              "    <tr>\n",
              "      <th>0</th>\n",
              "      <td>1201232046</td>\n",
              "      <td>2008-01-25</td>\n",
              "      <td>3</td>\n",
              "      <td>0</td>\n",
              "      <td>Scores killed in Pakistan clashes</td>\n",
              "      <td>False</td>\n",
              "      <td>polar</td>\n",
              "      <td>worldnews</td>\n",
              "    </tr>\n",
              "    <tr>\n",
              "      <th>1</th>\n",
              "      <td>1201232075</td>\n",
              "      <td>2008-01-25</td>\n",
              "      <td>2</td>\n",
              "      <td>0</td>\n",
              "      <td>Japan resumes refuelling mission</td>\n",
              "      <td>False</td>\n",
              "      <td>polar</td>\n",
              "      <td>worldnews</td>\n",
              "    </tr>\n",
              "    <tr>\n",
              "      <th>2</th>\n",
              "      <td>1201232523</td>\n",
              "      <td>2008-01-25</td>\n",
              "      <td>3</td>\n",
              "      <td>0</td>\n",
              "      <td>US presses Egypt on Gaza border</td>\n",
              "      <td>False</td>\n",
              "      <td>polar</td>\n",
              "      <td>worldnews</td>\n",
              "    </tr>\n",
              "    <tr>\n",
              "      <th>3</th>\n",
              "      <td>1201233290</td>\n",
              "      <td>2008-01-25</td>\n",
              "      <td>1</td>\n",
              "      <td>0</td>\n",
              "      <td>Jump-start economy: Give health care to all</td>\n",
              "      <td>False</td>\n",
              "      <td>fadi420</td>\n",
              "      <td>worldnews</td>\n",
              "    </tr>\n",
              "    <tr>\n",
              "      <th>4</th>\n",
              "      <td>1201274720</td>\n",
              "      <td>2008-01-25</td>\n",
              "      <td>4</td>\n",
              "      <td>0</td>\n",
              "      <td>Council of Europe bashes EU&amp;UN terror blacklist</td>\n",
              "      <td>False</td>\n",
              "      <td>mhermans</td>\n",
              "      <td>worldnews</td>\n",
              "    </tr>\n",
              "  </tbody>\n",
              "</table>\n",
              "</div>"
            ],
            "text/plain": [
              "   time_created date_created  up_votes  ...  over_18    author  subreddit\n",
              "0    1201232046   2008-01-25         3  ...    False     polar  worldnews\n",
              "1    1201232075   2008-01-25         2  ...    False     polar  worldnews\n",
              "2    1201232523   2008-01-25         3  ...    False     polar  worldnews\n",
              "3    1201233290   2008-01-25         1  ...    False   fadi420  worldnews\n",
              "4    1201274720   2008-01-25         4  ...    False  mhermans  worldnews\n",
              "\n",
              "[5 rows x 8 columns]"
            ]
          },
          "metadata": {
            "tags": []
          },
          "execution_count": 3
        }
      ]
    },
    {
      "cell_type": "code",
      "metadata": {
        "id": "SMBU-PA9zWhL",
        "colab_type": "code",
        "outputId": "8bf44053-b6d8-4e94-bcb4-03ecbdc54b3d",
        "colab": {
          "base_uri": "https://localhost:8080/",
          "height": 374
        }
      },
      "source": [
        "df.author.value_counts().head(20)"
      ],
      "execution_count": 4,
      "outputs": [
        {
          "output_type": "execute_result",
          "data": {
            "text/plain": [
              "igeldard            3918\n",
              "twolf1              1799\n",
              "maxwellhill         1644\n",
              "SolInvictus         1581\n",
              "DougBolivar         1321\n",
              "galt1776            1266\n",
              "DrRichardCranium    1214\n",
              "alllie               947\n",
              "davidreiss666        940\n",
              "blackstar9000        696\n",
              "Kaffir               671\n",
              "koavf                648\n",
              "MrTulip              607\n",
              "Orangutan            589\n",
              "silence_hr           587\n",
              "mjanes               556\n",
              "jips                 544\n",
              "misterAction         529\n",
              "spainguy             482\n",
              "ajehals              446\n",
              "Name: author, dtype: int64"
            ]
          },
          "metadata": {
            "tags": []
          },
          "execution_count": 4
        }
      ]
    },
    {
      "cell_type": "markdown",
      "metadata": {
        "id": "8ZhnZRhF0jgs",
        "colab_type": "text"
      },
      "source": [
        "A few simple preprocessing steps, wrapped in a function so that they are replicable in future notebooks: exclude authors posting below a certain threshold, lowercase our text, and compute a couple new fields to be used later on. We'll return both the tranformed original dataframe and a new dataframe grouped by user with all text joined."
      ]
    },
    {
      "cell_type": "code",
      "metadata": {
        "id": "ECTEclk70ioc",
        "colab_type": "code",
        "colab": {}
      },
      "source": [
        "def _preprocess(df, min_posts=10):\n",
        "  exclude_authors = df.groupby(\"author\").count()\n",
        "  exclude_authors = exclude_authors[exclude_authors.title <= min_posts].index.values\n",
        "  \n",
        "  df = df[~df.author.isin(exclude_authors)]\n",
        "\n",
        "  df['title'] = df.title.str.lower()\n",
        "  df['score'] = df.up_votes - df.down_votes\n",
        "\n",
        "  df_grouped = df.groupby('author')['title'].apply(lambda x: ' '.join(x)).reset_index()\n",
        "  df_grouped['mean_score'] = df.groupby('author')['score'].mean().values\n",
        "\n",
        "  df_grouped['score_category'] = np.where(df_grouped.mean_score >= np.mean(df_grouped.mean_score) + np.std(df_grouped.mean_score),\n",
        "                                        'high_scorer',\n",
        "                                        np.where(df_grouped.mean_score <= np.mean(df_grouped.mean_score) - 10,\n",
        "                                                 'low_scorer','mid_scorer')\n",
        "                                        )\n",
        "  \n",
        "  return df, df_grouped"
      ],
      "execution_count": 0,
      "outputs": []
    },
    {
      "cell_type": "code",
      "metadata": {
        "id": "r8dqUJO356vM",
        "colab_type": "code",
        "outputId": "232dc41d-e5b5-40a7-9a19-d5e705ffb301",
        "colab": {
          "base_uri": "https://localhost:8080/",
          "height": 261
        }
      },
      "source": [
        "df_preprocessed, df_grouped = _preprocess(df)"
      ],
      "execution_count": 6,
      "outputs": [
        {
          "output_type": "stream",
          "text": [
            "/usr/local/lib/python3.6/dist-packages/ipykernel_launcher.py:7: SettingWithCopyWarning: \n",
            "A value is trying to be set on a copy of a slice from a DataFrame.\n",
            "Try using .loc[row_indexer,col_indexer] = value instead\n",
            "\n",
            "See the caveats in the documentation: https://pandas.pydata.org/pandas-docs/stable/user_guide/indexing.html#returning-a-view-versus-a-copy\n",
            "  import sys\n",
            "/usr/local/lib/python3.6/dist-packages/ipykernel_launcher.py:8: SettingWithCopyWarning: \n",
            "A value is trying to be set on a copy of a slice from a DataFrame.\n",
            "Try using .loc[row_indexer,col_indexer] = value instead\n",
            "\n",
            "See the caveats in the documentation: https://pandas.pydata.org/pandas-docs/stable/user_guide/indexing.html#returning-a-view-versus-a-copy\n",
            "  \n"
          ],
          "name": "stderr"
        }
      ]
    },
    {
      "cell_type": "markdown",
      "metadata": {
        "id": "NkhC9-tK7UwI",
        "colab_type": "text"
      },
      "source": [
        "Now we'll train a word2vec model using gensim. We'll give it 1024 dimensions, because this is the size of the LASER vectors we'll use later."
      ]
    },
    {
      "cell_type": "code",
      "metadata": {
        "id": "Hc4vt6OWxRGn",
        "colab_type": "code",
        "colab": {}
      },
      "source": [
        "from gensim.models import Word2Vec\n",
        "\n",
        "text = [t for t in df_preprocessed.title]\n",
        "\n",
        "model = Word2Vec(text, size=1024, window=5, sg=1)"
      ],
      "execution_count": 0,
      "outputs": []
    },
    {
      "cell_type": "markdown",
      "metadata": {
        "id": "dW4gPIm86-9i",
        "colab_type": "text"
      },
      "source": [
        "To compute author-level vectors, take the average vector for all of the author's posts. This approach works well for individual documents, but I haven't seen a good example of a case like this where our unit of analysis isn't individual documents."
      ]
    },
    {
      "cell_type": "code",
      "metadata": {
        "id": "8ZBbIkmRxRJr",
        "colab_type": "code",
        "colab": {}
      },
      "source": [
        "def doc_vectorizer(text, model):\n",
        "  doc_vec = 0\n",
        "  count = 0\n",
        "\n",
        "  if len(text) == 1:\n",
        "    return model[text]\n",
        "\n",
        "  for t in text:\n",
        "    try:\n",
        "      word_vec = model[t]\n",
        "      doc_vec = doc_vec + word_vec\n",
        "      count += 1\n",
        "    except:\n",
        "      pass\n",
        "  \n",
        "  doc_vec = doc_vec / count\n",
        "  return doc_vec"
      ],
      "execution_count": 0,
      "outputs": []
    },
    {
      "cell_type": "code",
      "metadata": {
        "id": "GDTfAFMcxRNB",
        "colab_type": "code",
        "outputId": "16a2c2ab-ad94-4492-ab51-5e54b7ce2944",
        "colab": {
          "base_uri": "https://localhost:8080/",
          "height": 111
        }
      },
      "source": [
        "author_vectors = [doc_vectorizer(t.lower(), model) for t in df_grouped.title]"
      ],
      "execution_count": 9,
      "outputs": [
        {
          "output_type": "stream",
          "text": [
            "/usr/local/lib/python3.6/dist-packages/ipykernel_launcher.py:10: DeprecationWarning: Call to deprecated `__getitem__` (Method will be removed in 4.0.0, use self.wv.__getitem__() instead).\n",
            "  # Remove the CWD from sys.path while we load stuff.\n"
          ],
          "name": "stderr"
        }
      ]
    },
    {
      "cell_type": "markdown",
      "metadata": {
        "id": "ZnapL_V77zEd",
        "colab_type": "text"
      },
      "source": [
        "T-SNE is useful for reducing the dimensions of the vectors for visualization, and it's most stable if combined with PCA as seen here.\n",
        "\n",
        "Since this isn't a dataset with obvious clusters, the absence of clear clusters in the plot doesn't mean this isn't working!\n",
        "\n",
        "The points in the plot are labeled by the user's average upvote/downvote score - maybe users who get many upvotes are different in some way from users who don't?"
      ]
    },
    {
      "cell_type": "code",
      "metadata": {
        "id": "FuD__VKh15rY",
        "colab_type": "code",
        "colab": {}
      },
      "source": [
        "from sklearn.manifold import TSNE\n",
        "\n",
        "tsne = TSNE(n_components=2, init='pca')\n",
        "tsne_results = tsne.fit_transform(author_vectors)\n",
        "\n",
        "df_grouped['tsne_x'] = tsne_results[:,0]\n",
        "df_grouped['tsne_y'] = tsne_results[:,1]"
      ],
      "execution_count": 0,
      "outputs": []
    },
    {
      "cell_type": "code",
      "metadata": {
        "id": "dV1-v58h60TR",
        "colab_type": "code",
        "outputId": "8b354e67-cb4a-4da1-b367-7729bbf3b23d",
        "colab": {
          "base_uri": "https://localhost:8080/",
          "height": 85
        }
      },
      "source": [
        "df_grouped.score_category.value_counts()"
      ],
      "execution_count": 11,
      "outputs": [
        {
          "output_type": "execute_result",
          "data": {
            "text/plain": [
              "low_scorer     741\n",
              "mid_scorer     392\n",
              "high_scorer    124\n",
              "Name: score_category, dtype: int64"
            ]
          },
          "metadata": {
            "tags": []
          },
          "execution_count": 11
        }
      ]
    },
    {
      "cell_type": "code",
      "metadata": {
        "id": "3LRmukzW29jt",
        "colab_type": "code",
        "outputId": "c8c37988-1db6-4848-c241-8ac6f765131f",
        "colab": {
          "base_uri": "https://localhost:8080/",
          "height": 623
        }
      },
      "source": [
        "plt.figure(figsize=(16,10))\n",
        "sns.scatterplot(\n",
        "    x='tsne_x', y='tsne_y',\n",
        "    hue=\"score_category\",\n",
        "    data=df_grouped,\n",
        "    legend=\"full\")"
      ],
      "execution_count": 12,
      "outputs": [
        {
          "output_type": "execute_result",
          "data": {
            "text/plain": [
              "<matplotlib.axes._subplots.AxesSubplot at 0x7f89a07f42b0>"
            ]
          },
          "metadata": {
            "tags": []
          },
          "execution_count": 12
        },
        {
          "output_type": "display_data",
          "data": {
            "image/png": "[encoded data removed]",
            "text/plain": [
              "<Figure size 1152x720 with 1 Axes>"
            ]
          },
          "metadata": {
            "tags": [],
            "needs_background": "light"
          }
        }
      ]
    },
    {
      "cell_type": "markdown",
      "metadata": {
        "id": "h4xYwNcLUPdB",
        "colab_type": "text"
      },
      "source": [
        "There might be a bit of a cluster near the peak of the y-axis, but otherwise this isn't showing us much."
      ]
    },
    {
      "cell_type": "markdown",
      "metadata": {
        "id": "QMtAymdK_qHy",
        "colab_type": "text"
      },
      "source": [
        "As another measure of performance, let's get the five most similar authors for the first five authors in the dataset using both cosine distance and FAISS. Cosine distance has been show to give better results that euclidean distance in high dimensional space, and [FAISS](https://github.com/facebookresearch/faiss) is a library by Facebook that is specifically designed for similarity searches."
      ]
    },
    {
      "cell_type": "code",
      "metadata": {
        "id": "Geag4Ccx1kgC",
        "colab_type": "code",
        "colab": {}
      },
      "source": [
        "from sklearn.metrics.pairwise import cosine_distances\n",
        "\n",
        "author_distances = pd.DataFrame(\n",
        "    cosine_distances(author_vectors, author_vectors)\n",
        ")"
      ],
      "execution_count": 0,
      "outputs": []
    },
    {
      "cell_type": "code",
      "metadata": {
        "id": "DaUlq1ng1kqc",
        "colab_type": "code",
        "outputId": "52f7e362-c868-4784-b5a8-10050e71c893",
        "colab": {
          "base_uri": "https://localhost:8080/",
          "height": 273
        }
      },
      "source": [
        "#Authors will obviously be exactly similar to themselves\n",
        "author_distances_v2 = author_distances.replace(0, np.nan)\n",
        "author_distances_v2.head()"
      ],
      "execution_count": 14,
      "outputs": [
        {
          "output_type": "execute_result",
          "data": {
            "text/html": [
              "<div>\n",
              "<style scoped>\n",
              "    .dataframe tbody tr th:only-of-type {\n",
              "        vertical-align: middle;\n",
              "    }\n",
              "\n",
              "    .dataframe tbody tr th {\n",
              "        vertical-align: top;\n",
              "    }\n",
              "\n",
              "    .dataframe thead th {\n",
              "        text-align: right;\n",
              "    }\n",
              "</style>\n",
              "<table border=\"1\" class=\"dataframe\">\n",
              "  <thead>\n",
              "    <tr style=\"text-align: right;\">\n",
              "      <th></th>\n",
              "      <th>0</th>\n",
              "      <th>1</th>\n",
              "      <th>2</th>\n",
              "      <th>3</th>\n",
              "      <th>4</th>\n",
              "      <th>5</th>\n",
              "      <th>6</th>\n",
              "      <th>7</th>\n",
              "      <th>8</th>\n",
              "      <th>9</th>\n",
              "      <th>10</th>\n",
              "      <th>11</th>\n",
              "      <th>12</th>\n",
              "      <th>13</th>\n",
              "      <th>14</th>\n",
              "      <th>15</th>\n",
              "      <th>16</th>\n",
              "      <th>17</th>\n",
              "      <th>18</th>\n",
              "      <th>19</th>\n",
              "      <th>20</th>\n",
              "      <th>21</th>\n",
              "      <th>22</th>\n",
              "      <th>23</th>\n",
              "      <th>24</th>\n",
              "      <th>25</th>\n",
              "      <th>26</th>\n",
              "      <th>27</th>\n",
              "      <th>28</th>\n",
              "      <th>29</th>\n",
              "      <th>30</th>\n",
              "      <th>31</th>\n",
              "      <th>32</th>\n",
              "      <th>33</th>\n",
              "      <th>34</th>\n",
              "      <th>35</th>\n",
              "      <th>36</th>\n",
              "      <th>37</th>\n",
              "      <th>38</th>\n",
              "      <th>39</th>\n",
              "      <th>...</th>\n",
              "      <th>1217</th>\n",
              "      <th>1218</th>\n",
              "      <th>1219</th>\n",
              "      <th>1220</th>\n",
              "      <th>1221</th>\n",
              "      <th>1222</th>\n",
              "      <th>1223</th>\n",
              "      <th>1224</th>\n",
              "      <th>1225</th>\n",
              "      <th>1226</th>\n",
              "      <th>1227</th>\n",
              "      <th>1228</th>\n",
              "      <th>1229</th>\n",
              "      <th>1230</th>\n",
              "      <th>1231</th>\n",
              "      <th>1232</th>\n",
              "      <th>1233</th>\n",
              "      <th>1234</th>\n",
              "      <th>1235</th>\n",
              "      <th>1236</th>\n",
              "      <th>1237</th>\n",
              "      <th>1238</th>\n",
              "      <th>1239</th>\n",
              "      <th>1240</th>\n",
              "      <th>1241</th>\n",
              "      <th>1242</th>\n",
              "      <th>1243</th>\n",
              "      <th>1244</th>\n",
              "      <th>1245</th>\n",
              "      <th>1246</th>\n",
              "      <th>1247</th>\n",
              "      <th>1248</th>\n",
              "      <th>1249</th>\n",
              "      <th>1250</th>\n",
              "      <th>1251</th>\n",
              "      <th>1252</th>\n",
              "      <th>1253</th>\n",
              "      <th>1254</th>\n",
              "      <th>1255</th>\n",
              "      <th>1256</th>\n",
              "    </tr>\n",
              "  </thead>\n",
              "  <tbody>\n",
              "    <tr>\n",
              "      <th>0</th>\n",
              "      <td>NaN</td>\n",
              "      <td>0.001322</td>\n",
              "      <td>0.002060</td>\n",
              "      <td>0.001206</td>\n",
              "      <td>0.001522</td>\n",
              "      <td>0.002121</td>\n",
              "      <td>0.001221</td>\n",
              "      <td>0.001424</td>\n",
              "      <td>0.001291</td>\n",
              "      <td>0.001815</td>\n",
              "      <td>0.001979</td>\n",
              "      <td>0.001291</td>\n",
              "      <td>0.001268</td>\n",
              "      <td>0.001102</td>\n",
              "      <td>0.001964</td>\n",
              "      <td>0.001760</td>\n",
              "      <td>0.001573</td>\n",
              "      <td>0.001179</td>\n",
              "      <td>0.002353</td>\n",
              "      <td>0.001953</td>\n",
              "      <td>0.002610</td>\n",
              "      <td>0.001029</td>\n",
              "      <td>0.001503</td>\n",
              "      <td>0.001621</td>\n",
              "      <td>0.001403</td>\n",
              "      <td>0.001653</td>\n",
              "      <td>0.001258</td>\n",
              "      <td>0.001096</td>\n",
              "      <td>0.001483</td>\n",
              "      <td>0.001931</td>\n",
              "      <td>0.001708</td>\n",
              "      <td>0.000791</td>\n",
              "      <td>0.001535</td>\n",
              "      <td>0.001756</td>\n",
              "      <td>0.001419</td>\n",
              "      <td>0.001164</td>\n",
              "      <td>0.001685</td>\n",
              "      <td>0.001011</td>\n",
              "      <td>0.001439</td>\n",
              "      <td>0.001078</td>\n",
              "      <td>...</td>\n",
              "      <td>0.001273</td>\n",
              "      <td>0.001144</td>\n",
              "      <td>0.001551</td>\n",
              "      <td>0.001368</td>\n",
              "      <td>0.000690</td>\n",
              "      <td>0.001122</td>\n",
              "      <td>0.002306</td>\n",
              "      <td>0.001448</td>\n",
              "      <td>0.001563</td>\n",
              "      <td>0.002191</td>\n",
              "      <td>0.002206</td>\n",
              "      <td>0.001357</td>\n",
              "      <td>0.001595</td>\n",
              "      <td>0.001112</td>\n",
              "      <td>0.001904</td>\n",
              "      <td>0.001623</td>\n",
              "      <td>0.001217</td>\n",
              "      <td>0.001540</td>\n",
              "      <td>0.001376</td>\n",
              "      <td>0.002312</td>\n",
              "      <td>0.001444</td>\n",
              "      <td>0.001868</td>\n",
              "      <td>0.001892</td>\n",
              "      <td>0.001263</td>\n",
              "      <td>0.001338</td>\n",
              "      <td>0.001052</td>\n",
              "      <td>0.001358</td>\n",
              "      <td>0.002261</td>\n",
              "      <td>0.000755</td>\n",
              "      <td>0.000982</td>\n",
              "      <td>0.002860</td>\n",
              "      <td>0.001465</td>\n",
              "      <td>0.000928</td>\n",
              "      <td>0.001537</td>\n",
              "      <td>0.001046</td>\n",
              "      <td>0.001505</td>\n",
              "      <td>0.001749</td>\n",
              "      <td>0.001102</td>\n",
              "      <td>0.000874</td>\n",
              "      <td>0.001221</td>\n",
              "    </tr>\n",
              "    <tr>\n",
              "      <th>1</th>\n",
              "      <td>0.001322</td>\n",
              "      <td>NaN</td>\n",
              "      <td>0.002639</td>\n",
              "      <td>0.001188</td>\n",
              "      <td>0.002660</td>\n",
              "      <td>0.002764</td>\n",
              "      <td>0.001888</td>\n",
              "      <td>0.001817</td>\n",
              "      <td>0.002327</td>\n",
              "      <td>0.001776</td>\n",
              "      <td>0.001752</td>\n",
              "      <td>0.002283</td>\n",
              "      <td>0.001845</td>\n",
              "      <td>0.001546</td>\n",
              "      <td>0.001875</td>\n",
              "      <td>0.003031</td>\n",
              "      <td>0.002372</td>\n",
              "      <td>0.001488</td>\n",
              "      <td>0.003386</td>\n",
              "      <td>0.002989</td>\n",
              "      <td>0.003505</td>\n",
              "      <td>0.000837</td>\n",
              "      <td>0.001408</td>\n",
              "      <td>0.001543</td>\n",
              "      <td>0.001928</td>\n",
              "      <td>0.002687</td>\n",
              "      <td>0.001694</td>\n",
              "      <td>0.001408</td>\n",
              "      <td>0.002331</td>\n",
              "      <td>0.002498</td>\n",
              "      <td>0.002953</td>\n",
              "      <td>0.000688</td>\n",
              "      <td>0.002041</td>\n",
              "      <td>0.002016</td>\n",
              "      <td>0.001596</td>\n",
              "      <td>0.001744</td>\n",
              "      <td>0.002011</td>\n",
              "      <td>0.001535</td>\n",
              "      <td>0.001635</td>\n",
              "      <td>0.001232</td>\n",
              "      <td>...</td>\n",
              "      <td>0.000934</td>\n",
              "      <td>0.001548</td>\n",
              "      <td>0.002449</td>\n",
              "      <td>0.001520</td>\n",
              "      <td>0.001080</td>\n",
              "      <td>0.001056</td>\n",
              "      <td>0.003221</td>\n",
              "      <td>0.002078</td>\n",
              "      <td>0.002200</td>\n",
              "      <td>0.002642</td>\n",
              "      <td>0.002980</td>\n",
              "      <td>0.001557</td>\n",
              "      <td>0.002038</td>\n",
              "      <td>0.001708</td>\n",
              "      <td>0.002832</td>\n",
              "      <td>0.002107</td>\n",
              "      <td>0.001457</td>\n",
              "      <td>0.001674</td>\n",
              "      <td>0.001941</td>\n",
              "      <td>0.003149</td>\n",
              "      <td>0.001355</td>\n",
              "      <td>0.002688</td>\n",
              "      <td>0.002117</td>\n",
              "      <td>0.001624</td>\n",
              "      <td>0.001329</td>\n",
              "      <td>0.002176</td>\n",
              "      <td>0.001895</td>\n",
              "      <td>0.003040</td>\n",
              "      <td>0.001050</td>\n",
              "      <td>0.000897</td>\n",
              "      <td>0.003928</td>\n",
              "      <td>0.002252</td>\n",
              "      <td>0.000772</td>\n",
              "      <td>0.002038</td>\n",
              "      <td>0.001698</td>\n",
              "      <td>0.001764</td>\n",
              "      <td>0.001939</td>\n",
              "      <td>0.001551</td>\n",
              "      <td>0.000613</td>\n",
              "      <td>0.001619</td>\n",
              "    </tr>\n",
              "    <tr>\n",
              "      <th>2</th>\n",
              "      <td>0.002060</td>\n",
              "      <td>0.002639</td>\n",
              "      <td>NaN</td>\n",
              "      <td>0.000662</td>\n",
              "      <td>0.000432</td>\n",
              "      <td>0.000516</td>\n",
              "      <td>0.000686</td>\n",
              "      <td>0.001618</td>\n",
              "      <td>0.000461</td>\n",
              "      <td>0.001273</td>\n",
              "      <td>0.000354</td>\n",
              "      <td>0.000322</td>\n",
              "      <td>0.000216</td>\n",
              "      <td>0.000283</td>\n",
              "      <td>0.000518</td>\n",
              "      <td>0.002383</td>\n",
              "      <td>0.000178</td>\n",
              "      <td>0.000578</td>\n",
              "      <td>0.000982</td>\n",
              "      <td>0.000257</td>\n",
              "      <td>0.000349</td>\n",
              "      <td>0.000745</td>\n",
              "      <td>0.000384</td>\n",
              "      <td>0.000452</td>\n",
              "      <td>0.000164</td>\n",
              "      <td>0.000772</td>\n",
              "      <td>0.000184</td>\n",
              "      <td>0.000734</td>\n",
              "      <td>0.000376</td>\n",
              "      <td>0.000165</td>\n",
              "      <td>0.000487</td>\n",
              "      <td>0.001255</td>\n",
              "      <td>0.000213</td>\n",
              "      <td>0.000225</td>\n",
              "      <td>0.000418</td>\n",
              "      <td>0.000268</td>\n",
              "      <td>0.000127</td>\n",
              "      <td>0.000491</td>\n",
              "      <td>0.001527</td>\n",
              "      <td>0.000916</td>\n",
              "      <td>...</td>\n",
              "      <td>0.000880</td>\n",
              "      <td>0.000385</td>\n",
              "      <td>0.000287</td>\n",
              "      <td>0.000460</td>\n",
              "      <td>0.001667</td>\n",
              "      <td>0.000801</td>\n",
              "      <td>0.001033</td>\n",
              "      <td>0.000191</td>\n",
              "      <td>0.000144</td>\n",
              "      <td>0.000116</td>\n",
              "      <td>0.000225</td>\n",
              "      <td>0.000665</td>\n",
              "      <td>0.000172</td>\n",
              "      <td>0.000726</td>\n",
              "      <td>0.000281</td>\n",
              "      <td>0.000177</td>\n",
              "      <td>0.000451</td>\n",
              "      <td>0.000285</td>\n",
              "      <td>0.000450</td>\n",
              "      <td>0.000797</td>\n",
              "      <td>0.000481</td>\n",
              "      <td>0.000325</td>\n",
              "      <td>0.000393</td>\n",
              "      <td>0.000219</td>\n",
              "      <td>0.000467</td>\n",
              "      <td>0.000905</td>\n",
              "      <td>0.000536</td>\n",
              "      <td>0.000284</td>\n",
              "      <td>0.000711</td>\n",
              "      <td>0.001271</td>\n",
              "      <td>0.000914</td>\n",
              "      <td>0.000223</td>\n",
              "      <td>0.001449</td>\n",
              "      <td>0.000257</td>\n",
              "      <td>0.000304</td>\n",
              "      <td>0.000346</td>\n",
              "      <td>0.000247</td>\n",
              "      <td>0.000589</td>\n",
              "      <td>0.000978</td>\n",
              "      <td>0.000245</td>\n",
              "    </tr>\n",
              "    <tr>\n",
              "      <th>3</th>\n",
              "      <td>0.001206</td>\n",
              "      <td>0.001188</td>\n",
              "      <td>0.000662</td>\n",
              "      <td>NaN</td>\n",
              "      <td>0.000748</td>\n",
              "      <td>0.001184</td>\n",
              "      <td>0.000632</td>\n",
              "      <td>0.000945</td>\n",
              "      <td>0.000741</td>\n",
              "      <td>0.000941</td>\n",
              "      <td>0.000460</td>\n",
              "      <td>0.000682</td>\n",
              "      <td>0.000482</td>\n",
              "      <td>0.000381</td>\n",
              "      <td>0.000450</td>\n",
              "      <td>0.001631</td>\n",
              "      <td>0.000572</td>\n",
              "      <td>0.000393</td>\n",
              "      <td>0.001239</td>\n",
              "      <td>0.001056</td>\n",
              "      <td>0.001107</td>\n",
              "      <td>0.000381</td>\n",
              "      <td>0.000354</td>\n",
              "      <td>0.000657</td>\n",
              "      <td>0.000370</td>\n",
              "      <td>0.000579</td>\n",
              "      <td>0.000339</td>\n",
              "      <td>0.000556</td>\n",
              "      <td>0.000872</td>\n",
              "      <td>0.000633</td>\n",
              "      <td>0.001017</td>\n",
              "      <td>0.000573</td>\n",
              "      <td>0.000549</td>\n",
              "      <td>0.000464</td>\n",
              "      <td>0.000226</td>\n",
              "      <td>0.000290</td>\n",
              "      <td>0.000373</td>\n",
              "      <td>0.000470</td>\n",
              "      <td>0.000722</td>\n",
              "      <td>0.000459</td>\n",
              "      <td>...</td>\n",
              "      <td>0.000486</td>\n",
              "      <td>0.000460</td>\n",
              "      <td>0.000664</td>\n",
              "      <td>0.000511</td>\n",
              "      <td>0.000682</td>\n",
              "      <td>0.000513</td>\n",
              "      <td>0.000938</td>\n",
              "      <td>0.000552</td>\n",
              "      <td>0.000533</td>\n",
              "      <td>0.000755</td>\n",
              "      <td>0.000680</td>\n",
              "      <td>0.000443</td>\n",
              "      <td>0.000392</td>\n",
              "      <td>0.000491</td>\n",
              "      <td>0.000999</td>\n",
              "      <td>0.000480</td>\n",
              "      <td>0.000356</td>\n",
              "      <td>0.000460</td>\n",
              "      <td>0.000724</td>\n",
              "      <td>0.001196</td>\n",
              "      <td>0.000489</td>\n",
              "      <td>0.000679</td>\n",
              "      <td>0.000521</td>\n",
              "      <td>0.000324</td>\n",
              "      <td>0.000544</td>\n",
              "      <td>0.000644</td>\n",
              "      <td>0.000603</td>\n",
              "      <td>0.001106</td>\n",
              "      <td>0.000254</td>\n",
              "      <td>0.000429</td>\n",
              "      <td>0.001293</td>\n",
              "      <td>0.000425</td>\n",
              "      <td>0.000720</td>\n",
              "      <td>0.000709</td>\n",
              "      <td>0.000322</td>\n",
              "      <td>0.000528</td>\n",
              "      <td>0.000592</td>\n",
              "      <td>0.000421</td>\n",
              "      <td>0.000396</td>\n",
              "      <td>0.000333</td>\n",
              "    </tr>\n",
              "    <tr>\n",
              "      <th>4</th>\n",
              "      <td>0.001522</td>\n",
              "      <td>0.002660</td>\n",
              "      <td>0.000432</td>\n",
              "      <td>0.000748</td>\n",
              "      <td>NaN</td>\n",
              "      <td>0.001175</td>\n",
              "      <td>0.000685</td>\n",
              "      <td>0.001826</td>\n",
              "      <td>0.000221</td>\n",
              "      <td>0.001437</td>\n",
              "      <td>0.000808</td>\n",
              "      <td>0.000551</td>\n",
              "      <td>0.000339</td>\n",
              "      <td>0.000436</td>\n",
              "      <td>0.000878</td>\n",
              "      <td>0.002108</td>\n",
              "      <td>0.000346</td>\n",
              "      <td>0.000529</td>\n",
              "      <td>0.001076</td>\n",
              "      <td>0.000458</td>\n",
              "      <td>0.000598</td>\n",
              "      <td>0.000894</td>\n",
              "      <td>0.000606</td>\n",
              "      <td>0.000867</td>\n",
              "      <td>0.000325</td>\n",
              "      <td>0.000455</td>\n",
              "      <td>0.000307</td>\n",
              "      <td>0.000876</td>\n",
              "      <td>0.000620</td>\n",
              "      <td>0.000405</td>\n",
              "      <td>0.000608</td>\n",
              "      <td>0.000993</td>\n",
              "      <td>0.000569</td>\n",
              "      <td>0.000493</td>\n",
              "      <td>0.000578</td>\n",
              "      <td>0.000455</td>\n",
              "      <td>0.000364</td>\n",
              "      <td>0.000597</td>\n",
              "      <td>0.001535</td>\n",
              "      <td>0.000779</td>\n",
              "      <td>...</td>\n",
              "      <td>0.001173</td>\n",
              "      <td>0.000529</td>\n",
              "      <td>0.000425</td>\n",
              "      <td>0.000697</td>\n",
              "      <td>0.001298</td>\n",
              "      <td>0.001055</td>\n",
              "      <td>0.001091</td>\n",
              "      <td>0.000383</td>\n",
              "      <td>0.000358</td>\n",
              "      <td>0.000631</td>\n",
              "      <td>0.000264</td>\n",
              "      <td>0.000699</td>\n",
              "      <td>0.000533</td>\n",
              "      <td>0.000795</td>\n",
              "      <td>0.000637</td>\n",
              "      <td>0.000392</td>\n",
              "      <td>0.000778</td>\n",
              "      <td>0.000716</td>\n",
              "      <td>0.000833</td>\n",
              "      <td>0.000968</td>\n",
              "      <td>0.000761</td>\n",
              "      <td>0.000608</td>\n",
              "      <td>0.000835</td>\n",
              "      <td>0.000420</td>\n",
              "      <td>0.000810</td>\n",
              "      <td>0.000696</td>\n",
              "      <td>0.000713</td>\n",
              "      <td>0.000558</td>\n",
              "      <td>0.000853</td>\n",
              "      <td>0.001042</td>\n",
              "      <td>0.001270</td>\n",
              "      <td>0.000281</td>\n",
              "      <td>0.001471</td>\n",
              "      <td>0.000614</td>\n",
              "      <td>0.000270</td>\n",
              "      <td>0.000548</td>\n",
              "      <td>0.000775</td>\n",
              "      <td>0.000785</td>\n",
              "      <td>0.001037</td>\n",
              "      <td>0.000329</td>\n",
              "    </tr>\n",
              "  </tbody>\n",
              "</table>\n",
              "<p>5 rows × 1257 columns</p>\n",
              "</div>"
            ],
            "text/plain": [
              "       0         1         2     ...      1254      1255      1256\n",
              "0       NaN  0.001322  0.002060  ...  0.001102  0.000874  0.001221\n",
              "1  0.001322       NaN  0.002639  ...  0.001551  0.000613  0.001619\n",
              "2  0.002060  0.002639       NaN  ...  0.000589  0.000978  0.000245\n",
              "3  0.001206  0.001188  0.000662  ...  0.000421  0.000396  0.000333\n",
              "4  0.001522  0.002660  0.000432  ...  0.000785  0.001037  0.000329\n",
              "\n",
              "[5 rows x 1257 columns]"
            ]
          },
          "metadata": {
            "tags": []
          },
          "execution_count": 14
        }
      ]
    },
    {
      "cell_type": "code",
      "metadata": {
        "id": "7ijXpvHD-5h5",
        "colab_type": "code",
        "outputId": "9cc26fce-ee1b-4d43-b1b4-9f789fba5e29",
        "colab": {
          "base_uri": "https://localhost:8080/",
          "height": 204
        }
      },
      "source": [
        "most_similar_cosine = pd.DataFrame()\n",
        "\n",
        "for i, row in author_distances_v2.head().iterrows():\n",
        "  most_similar = np.argsort(row.values)[:4]\n",
        "  most_similar_authors = []\n",
        "  for s in most_similar:\n",
        "    author = str(df_grouped.author[s])\n",
        "    most_similar_authors.append(author)\n",
        "  most_similar_i = pd.DataFrame({'original':df_grouped.author[i], 'most_similar':', '.join(most_similar_authors)}, index=[0])\n",
        "  most_similar_cosine = most_similar_cosine.append(most_similar_i)\n",
        "\n",
        "most_similar_cosine"
      ],
      "execution_count": 15,
      "outputs": [
        {
          "output_type": "execute_result",
          "data": {
            "text/html": [
              "<div>\n",
              "<style scoped>\n",
              "    .dataframe tbody tr th:only-of-type {\n",
              "        vertical-align: middle;\n",
              "    }\n",
              "\n",
              "    .dataframe tbody tr th {\n",
              "        vertical-align: top;\n",
              "    }\n",
              "\n",
              "    .dataframe thead th {\n",
              "        text-align: right;\n",
              "    }\n",
              "</style>\n",
              "<table border=\"1\" class=\"dataframe\">\n",
              "  <thead>\n",
              "    <tr style=\"text-align: right;\">\n",
              "      <th></th>\n",
              "      <th>original</th>\n",
              "      <th>most_similar</th>\n",
              "    </tr>\n",
              "  </thead>\n",
              "  <tbody>\n",
              "    <tr>\n",
              "      <th>0</th>\n",
              "      <td>000078754</td>\n",
              "      <td>florence25, marcpk, dreams16, tefster</td>\n",
              "    </tr>\n",
              "    <tr>\n",
              "      <th>0</th>\n",
              "      <td>007simple</td>\n",
              "      <td>goghi, coffinman82, charlatan, Dhghomon</td>\n",
              "    </tr>\n",
              "    <tr>\n",
              "      <th>0</th>\n",
              "      <td>00boyina</td>\n",
              "      <td>geekchic, chefranden, silence_hr, viborg</td>\n",
              "    </tr>\n",
              "    <tr>\n",
              "      <th>0</th>\n",
              "      <td>02116663ag</td>\n",
              "      <td>IntolerantFaith, NagastaBagamba, sohail, stubble</td>\n",
              "    </tr>\n",
              "    <tr>\n",
              "      <th>0</th>\n",
              "      <td>0boy</td>\n",
              "      <td>gtfonline, rastawala, sea_wall, ajehals</td>\n",
              "    </tr>\n",
              "  </tbody>\n",
              "</table>\n",
              "</div>"
            ],
            "text/plain": [
              "     original                                      most_similar\n",
              "0   000078754             florence25, marcpk, dreams16, tefster\n",
              "0   007simple           goghi, coffinman82, charlatan, Dhghomon\n",
              "0    00boyina          geekchic, chefranden, silence_hr, viborg\n",
              "0  02116663ag  IntolerantFaith, NagastaBagamba, sohail, stubble\n",
              "0        0boy           gtfonline, rastawala, sea_wall, ajehals"
            ]
          },
          "metadata": {
            "tags": []
          },
          "execution_count": 15
        }
      ]
    },
    {
      "cell_type": "markdown",
      "metadata": {
        "id": "YT5S5z3rMXMF",
        "colab_type": "text"
      },
      "source": [
        "Maybe FAISS gives better similarity \n",
        "\n",
        "You'll need to install the cpu version of FAISS, and the next few cells are adapted from [this tutorial](#https://github.com/facebookresearch/faiss/blob/master/tutorial/python/1-Flat.py) on the basics of FAISS."
      ]
    },
    {
      "cell_type": "code",
      "metadata": {
        "id": "B-sXPV4W1k6C",
        "colab_type": "code",
        "outputId": "da3641c6-fc52-4682-a3b3-80ab6faaae6f",
        "colab": {
          "base_uri": "https://localhost:8080/",
          "height": 80
        }
      },
      "source": [
        "!pip install faiss-cpu --no-cache"
      ],
      "execution_count": 16,
      "outputs": [
        {
          "output_type": "stream",
          "text": [
            "Requirement already satisfied: faiss-cpu in /usr/local/lib/python3.6/dist-packages (1.6.3)\n",
            "Requirement already satisfied: numpy in /usr/local/lib/python3.6/dist-packages (from faiss-cpu) (1.18.3)\n"
          ],
          "name": "stdout"
        }
      ]
    },
    {
      "cell_type": "markdown",
      "metadata": {
        "id": "0xFwnlVvNOnr",
        "colab_type": "text"
      },
      "source": [
        "FAISS requires that you separate your vectors into a database and a query.\n",
        "Then you build an index, and add your database to that index as a single float32 vector."
      ]
    },
    {
      "cell_type": "code",
      "metadata": {
        "id": "toNXcaBKNCS_",
        "colab_type": "code",
        "colab": {}
      },
      "source": [
        "query_vectors = author_vectors[:5]\n",
        "database_vectors = author_vectors[5:]"
      ],
      "execution_count": 0,
      "outputs": []
    },
    {
      "cell_type": "code",
      "metadata": {
        "id": "MxmtveAWM7IQ",
        "colab_type": "code",
        "colab": {
          "base_uri": "https://localhost:8080/",
          "height": 34
        },
        "outputId": "de861838-1adb-4a51-e0e3-b6b224bacec7"
      },
      "source": [
        "import faiss      \n",
        "\n",
        "vector_size = 1024                                      \n",
        "             \n",
        "index = faiss.IndexFlatL2(vector_size) \n",
        "print(index.is_trained)"
      ],
      "execution_count": 18,
      "outputs": [
        {
          "output_type": "stream",
          "text": [
            "True\n"
          ],
          "name": "stdout"
        }
      ]
    },
    {
      "cell_type": "code",
      "metadata": {
        "id": "I0lu7ka6N11D",
        "colab_type": "code",
        "colab": {
          "base_uri": "https://localhost:8080/",
          "height": 34
        },
        "outputId": "944c97d9-c686-4d3d-bbb4-22bab3c83982"
      },
      "source": [
        "database_vector = np.array(database_vectors, dtype='float32')\n",
        "query_vector = np.array(query_vectors, dtype='float32')\n",
        "index.add(database_vector)                 \n",
        "print(index.ntotal)"
      ],
      "execution_count": 19,
      "outputs": [
        {
          "output_type": "stream",
          "text": [
            "1252\n"
          ],
          "name": "stdout"
        }
      ]
    },
    {
      "cell_type": "code",
      "metadata": {
        "id": "Vk1dVZR3OGWX",
        "colab_type": "code",
        "colab": {
          "base_uri": "https://localhost:8080/",
          "height": 204
        },
        "outputId": "707a20f6-7ae9-404d-eba0-ce1e32b75b87"
      },
      "source": [
        "pd.set_option('display.max_colwidth', 100)\n",
        "\n",
        "#The search method searches for the n nearest vectors to the query vector\n",
        "distance, sim_index = index.search(query_vector, 4)\n",
        "\n",
        "most_similar_faiss = pd.DataFrame()\n",
        "\n",
        "for i in range(5):\n",
        "  most_similar_authors = []\n",
        "  for s in sim_index[i]:\n",
        "    author = str(df_grouped.author[s])\n",
        "    most_similar_authors.append(author)\n",
        "  most_similar_i = pd.DataFrame({'original':df_grouped.author[i], 'most_similar':', '.join(most_similar_authors)}, index=[0])\n",
        "  most_similar_faiss = most_similar_faiss.append(most_similar_i)\n",
        "\n",
        "most_similar_faiss"
      ],
      "execution_count": 20,
      "outputs": [
        {
          "output_type": "execute_result",
          "data": {
            "text/html": [
              "<div>\n",
              "<style scoped>\n",
              "    .dataframe tbody tr th:only-of-type {\n",
              "        vertical-align: middle;\n",
              "    }\n",
              "\n",
              "    .dataframe tbody tr th {\n",
              "        vertical-align: top;\n",
              "    }\n",
              "\n",
              "    .dataframe thead th {\n",
              "        text-align: right;\n",
              "    }\n",
              "</style>\n",
              "<table border=\"1\" class=\"dataframe\">\n",
              "  <thead>\n",
              "    <tr style=\"text-align: right;\">\n",
              "      <th></th>\n",
              "      <th>original</th>\n",
              "      <th>most_similar</th>\n",
              "    </tr>\n",
              "  </thead>\n",
              "  <tbody>\n",
              "    <tr>\n",
              "      <th>0</th>\n",
              "      <td>000078754</td>\n",
              "      <td>fishbert, dougmataconis, madonix, C2hristina</td>\n",
              "    </tr>\n",
              "    <tr>\n",
              "      <th>0</th>\n",
              "      <td>007simple</td>\n",
              "      <td>clacla83, glcarlstrom, casualfactors, XKingKong</td>\n",
              "    </tr>\n",
              "    <tr>\n",
              "      <th>0</th>\n",
              "      <td>00boyina</td>\n",
              "      <td>garyp714, cfall123, shravanmishra, vanibahl</td>\n",
              "    </tr>\n",
              "    <tr>\n",
              "      <th>0</th>\n",
              "      <td>02116663ag</td>\n",
              "      <td>ImJulianAssange, MrXfromPlanetX, smag1985, steppenwolf86</td>\n",
              "    </tr>\n",
              "    <tr>\n",
              "      <th>0</th>\n",
              "      <td>0boy</td>\n",
              "      <td>gregwont, rajsaxena, saute, aenea</td>\n",
              "    </tr>\n",
              "  </tbody>\n",
              "</table>\n",
              "</div>"
            ],
            "text/plain": [
              "     original                                              most_similar\n",
              "0   000078754              fishbert, dougmataconis, madonix, C2hristina\n",
              "0   007simple           clacla83, glcarlstrom, casualfactors, XKingKong\n",
              "0    00boyina               garyp714, cfall123, shravanmishra, vanibahl\n",
              "0  02116663ag  ImJulianAssange, MrXfromPlanetX, smag1985, steppenwolf86\n",
              "0        0boy                         gregwont, rajsaxena, saute, aenea"
            ]
          },
          "metadata": {
            "tags": []
          },
          "execution_count": 20
        }
      ]
    },
    {
      "cell_type": "code",
      "metadata": {
        "id": "iCjFFVEOXI4x",
        "colab_type": "code",
        "colab": {}
      },
      "source": [
        "df_preprocessed.to_csv('gdrive/My Drive/reddit_preprocessed.csv')\n",
        "df_grouped.to_csv('gdrive/My Drive/reddit_grouped.csv')"
      ],
      "execution_count": 0,
      "outputs": []
    }
  ]
}