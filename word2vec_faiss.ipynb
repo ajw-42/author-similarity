{
  "nbformat": 4,
  "nbformat_minor": 0,
  "metadata": {
    "colab": {
      "name": "word2vec_faiss.ipynb",
      "provenance": [],
      "collapsed_sections": [],
      "authorship_tag": "ABX9TyNMrvk2UkGHG9rln2W244xO"
    },
    "kernelspec": {
      "name": "python3",
      "display_name": "Python 3"
    }
  },
  "cells": [
    {
      "cell_type": "code",
      "metadata": {
        "id": "-lJeEV4GIRFj",
        "colab_type": "code",
        "colab": {
          "base_uri": "https://localhost:8080/",
          "height": 71
        },
        "outputId": "583b73aa-bd3b-42fe-8e9e-8cadcdd7c0a9"
      },
      "source": [
        "import pandas as pd\n",
        "import numpy as np\n",
        "\n",
        "import matplotlib.pyplot as plt\n",
        "import seaborn as sns\n",
        "%matplotlib inline"
      ],
      "execution_count": 1,
      "outputs": [
        {
          "output_type": "stream",
          "text": [
            "/usr/local/lib/python3.6/dist-packages/statsmodels/tools/_testing.py:19: FutureWarning: pandas.util.testing is deprecated. Use the functions in the public API at pandas.testing instead.\n",
            "  import pandas.util.testing as tm\n"
          ],
          "name": "stderr"
        }
      ]
    },
    {
      "cell_type": "code",
      "metadata": {
        "id": "i9noMF0XIRPs",
        "colab_type": "code",
        "colab": {
          "base_uri": "https://localhost:8080/",
          "height": 349
        },
        "outputId": "79bcc875-58ac-4b40-ab02-e4b4f2496baa"
      },
      "source": [
        "from google.colab import drive\n",
        "\n",
        "drive.mount('/content/gdrive')"
      ],
      "execution_count": 2,
      "outputs": [
        {
          "output_type": "stream",
          "text": [
            "Go to this URL in a browser: https://accounts.google.com/o/oauth2/auth?client_id=947318989803-6bn6qk8qdgf4n4g3pfee6491hc0brc4i.apps.googleusercontent.com&redirect_uri=urn%3aietf%3awg%3aoauth%3a2.0%3aoob&response_type=code&scope=email%20https%3a%2f%2fwww.googleapis.com%2fauth%2fdocs.test%20https%3a%2f%2fwww.googleapis.com%2fauth%2fdrive%20https%3a%2f%2fwww.googleapis.com%2fauth%2fdrive.photos.readonly%20https%3a%2f%2fwww.googleapis.com%2fauth%2fpeopleapi.readonly\n",
            "\n",
            "Enter your authorization code:\n",
            "··········\n",
            "Mounted at /content/gdrive\n"
          ],
          "name": "stdout"
        }
      ]
    },
    {
      "cell_type": "code",
      "metadata": {
        "id": "cir07xc2Iamh",
        "colab_type": "code",
        "colab": {
          "base_uri": "https://localhost:8080/",
          "height": 204
        },
        "outputId": "5814677a-f110-4067-bafc-2948b5cc2688"
      },
      "source": [
        "df = pd.read_csv('gdrive/My Drive/reddit_worldnews_start_to_2016-11-22.csv')[:100000]\n",
        "\n",
        "df.head()"
      ],
      "execution_count": 3,
      "outputs": [
        {
          "output_type": "execute_result",
          "data": {
            "text/html": [
              "<div>\n",
              "<style scoped>\n",
              "    .dataframe tbody tr th:only-of-type {\n",
              "        vertical-align: middle;\n",
              "    }\n",
              "\n",
              "    .dataframe tbody tr th {\n",
              "        vertical-align: top;\n",
              "    }\n",
              "\n",
              "    .dataframe thead th {\n",
              "        text-align: right;\n",
              "    }\n",
              "</style>\n",
              "<table border=\"1\" class=\"dataframe\">\n",
              "  <thead>\n",
              "    <tr style=\"text-align: right;\">\n",
              "      <th></th>\n",
              "      <th>time_created</th>\n",
              "      <th>date_created</th>\n",
              "      <th>up_votes</th>\n",
              "      <th>down_votes</th>\n",
              "      <th>title</th>\n",
              "      <th>over_18</th>\n",
              "      <th>author</th>\n",
              "      <th>subreddit</th>\n",
              "    </tr>\n",
              "  </thead>\n",
              "  <tbody>\n",
              "    <tr>\n",
              "      <th>0</th>\n",
              "      <td>1201232046</td>\n",
              "      <td>2008-01-25</td>\n",
              "      <td>3</td>\n",
              "      <td>0</td>\n",
              "      <td>Scores killed in Pakistan clashes</td>\n",
              "      <td>False</td>\n",
              "      <td>polar</td>\n",
              "      <td>worldnews</td>\n",
              "    </tr>\n",
              "    <tr>\n",
              "      <th>1</th>\n",
              "      <td>1201232075</td>\n",
              "      <td>2008-01-25</td>\n",
              "      <td>2</td>\n",
              "      <td>0</td>\n",
              "      <td>Japan resumes refuelling mission</td>\n",
              "      <td>False</td>\n",
              "      <td>polar</td>\n",
              "      <td>worldnews</td>\n",
              "    </tr>\n",
              "    <tr>\n",
              "      <th>2</th>\n",
              "      <td>1201232523</td>\n",
              "      <td>2008-01-25</td>\n",
              "      <td>3</td>\n",
              "      <td>0</td>\n",
              "      <td>US presses Egypt on Gaza border</td>\n",
              "      <td>False</td>\n",
              "      <td>polar</td>\n",
              "      <td>worldnews</td>\n",
              "    </tr>\n",
              "    <tr>\n",
              "      <th>3</th>\n",
              "      <td>1201233290</td>\n",
              "      <td>2008-01-25</td>\n",
              "      <td>1</td>\n",
              "      <td>0</td>\n",
              "      <td>Jump-start economy: Give health care to all</td>\n",
              "      <td>False</td>\n",
              "      <td>fadi420</td>\n",
              "      <td>worldnews</td>\n",
              "    </tr>\n",
              "    <tr>\n",
              "      <th>4</th>\n",
              "      <td>1201274720</td>\n",
              "      <td>2008-01-25</td>\n",
              "      <td>4</td>\n",
              "      <td>0</td>\n",
              "      <td>Council of Europe bashes EU&amp;UN terror blacklist</td>\n",
              "      <td>False</td>\n",
              "      <td>mhermans</td>\n",
              "      <td>worldnews</td>\n",
              "    </tr>\n",
              "  </tbody>\n",
              "</table>\n",
              "</div>"
            ],
            "text/plain": [
              "   time_created date_created  up_votes  ...  over_18    author  subreddit\n",
              "0    1201232046   2008-01-25         3  ...    False     polar  worldnews\n",
              "1    1201232075   2008-01-25         2  ...    False     polar  worldnews\n",
              "2    1201232523   2008-01-25         3  ...    False     polar  worldnews\n",
              "3    1201233290   2008-01-25         1  ...    False   fadi420  worldnews\n",
              "4    1201274720   2008-01-25         4  ...    False  mhermans  worldnews\n",
              "\n",
              "[5 rows x 8 columns]"
            ]
          },
          "metadata": {
            "tags": []
          },
          "execution_count": 3
        }
      ]
    },
    {
      "cell_type": "code",
      "metadata": {
        "id": "5GF1Br8wIarZ",
        "colab_type": "code",
        "colab": {}
      },
      "source": [
        "from gensim.models import Word2Vec\n",
        "\n",
        "text = [t.lower() for t in df.title]\n",
        "\n",
        "model = Word2Vec(text, size=300, window=5, sg=1)"
      ],
      "execution_count": 0,
      "outputs": []
    },
    {
      "cell_type": "code",
      "metadata": {
        "id": "YrrIAoqLIxl_",
        "colab_type": "code",
        "colab": {}
      },
      "source": [
        "def doc_vectorizer(text, model):\n",
        "  doc_vec = 0\n",
        "  count = 0\n",
        "\n",
        "  if len(text) == 1:\n",
        "    return model[text]\n",
        "\n",
        "  for t in text:\n",
        "    try:\n",
        "      word_vec = model[t]\n",
        "      doc_vec = doc_vec + word_vec\n",
        "      count += 1\n",
        "    except:\n",
        "      pass\n",
        "  \n",
        "  doc_vec = doc_vec / count\n",
        "  return doc_vec"
      ],
      "execution_count": 0,
      "outputs": []
    },
    {
      "cell_type": "code",
      "metadata": {
        "id": "YXUPV2X2JiaG",
        "colab_type": "code",
        "colab": {
          "base_uri": "https://localhost:8080/",
          "height": 204
        },
        "outputId": "ac876aff-c5a1-4b5a-a021-2a5a3a9e7ceb"
      },
      "source": [
        "df['score'] = df.up_votes - df.down_votes\n",
        "\n",
        "df_grouped = df.groupby('author')['title'].apply(lambda x: ' '.join(x)).reset_index()\n",
        "df_grouped['mean_score'] = df.groupby('author')['score'].mean().values\n",
        "\n",
        "df_grouped.head()"
      ],
      "execution_count": 7,
      "outputs": [
        {
          "output_type": "execute_result",
          "data": {
            "text/html": [
              "<div>\n",
              "<style scoped>\n",
              "    .dataframe tbody tr th:only-of-type {\n",
              "        vertical-align: middle;\n",
              "    }\n",
              "\n",
              "    .dataframe tbody tr th {\n",
              "        vertical-align: top;\n",
              "    }\n",
              "\n",
              "    .dataframe thead th {\n",
              "        text-align: right;\n",
              "    }\n",
              "</style>\n",
              "<table border=\"1\" class=\"dataframe\">\n",
              "  <thead>\n",
              "    <tr style=\"text-align: right;\">\n",
              "      <th></th>\n",
              "      <th>author</th>\n",
              "      <th>title</th>\n",
              "      <th>mean_score</th>\n",
              "    </tr>\n",
              "  </thead>\n",
              "  <tbody>\n",
              "    <tr>\n",
              "      <th>0</th>\n",
              "      <td>---sniff---</td>\n",
              "      <td>The wife of Mir Hossein Mousavi, Ahmadinejad’s...</td>\n",
              "      <td>20.400000</td>\n",
              "    </tr>\n",
              "    <tr>\n",
              "      <th>1</th>\n",
              "      <td>--TacoLoco--</td>\n",
              "      <td>No explosives found in the  bomb  strapped to ...</td>\n",
              "      <td>5.000000</td>\n",
              "    </tr>\n",
              "    <tr>\n",
              "      <th>2</th>\n",
              "      <td>-____-</td>\n",
              "      <td>Palestinian sets record for longest imprisonme...</td>\n",
              "      <td>10.000000</td>\n",
              "    </tr>\n",
              "    <tr>\n",
              "      <th>3</th>\n",
              "      <td>-_o_0__0_o_-</td>\n",
              "      <td>Sweden wants to force ISPs to save user data S...</td>\n",
              "      <td>5.666667</td>\n",
              "    </tr>\n",
              "    <tr>\n",
              "      <th>4</th>\n",
              "      <td>-repick</td>\n",
              "      <td>Four Norwegian soldiers killed in Afghanistan</td>\n",
              "      <td>0.000000</td>\n",
              "    </tr>\n",
              "  </tbody>\n",
              "</table>\n",
              "</div>"
            ],
            "text/plain": [
              "         author                                              title  mean_score\n",
              "0   ---sniff---  The wife of Mir Hossein Mousavi, Ahmadinejad’s...   20.400000\n",
              "1  --TacoLoco--  No explosives found in the  bomb  strapped to ...    5.000000\n",
              "2        -____-  Palestinian sets record for longest imprisonme...   10.000000\n",
              "3  -_o_0__0_o_-  Sweden wants to force ISPs to save user data S...    5.666667\n",
              "4       -repick      Four Norwegian soldiers killed in Afghanistan    0.000000"
            ]
          },
          "metadata": {
            "tags": []
          },
          "execution_count": 7
        }
      ]
    },
    {
      "cell_type": "code",
      "metadata": {
        "id": "BXZOZlmjIxs2",
        "colab_type": "code",
        "colab": {
          "base_uri": "https://localhost:8080/",
          "height": 111
        },
        "outputId": "9c6727e0-77ed-44a9-9895-1289d1439b3e"
      },
      "source": [
        "author_vectors = [doc_vectorizer(t.lower(), model) for t in df_grouped.title]"
      ],
      "execution_count": 8,
      "outputs": [
        {
          "output_type": "stream",
          "text": [
            "/usr/local/lib/python3.6/dist-packages/ipykernel_launcher.py:10: DeprecationWarning: Call to deprecated `__getitem__` (Method will be removed in 4.0.0, use self.wv.__getitem__() instead).\n",
            "  # Remove the CWD from sys.path while we load stuff.\n"
          ],
          "name": "stderr"
        }
      ]
    },
    {
      "cell_type": "code",
      "metadata": {
        "id": "OmFZlNLuLfkq",
        "colab_type": "code",
        "colab": {
          "base_uri": "https://localhost:8080/",
          "height": 34
        },
        "outputId": "9ead289f-691e-429b-a0c9-00ec4ce65bc1"
      },
      "source": [
        "np.array(author_vectors).shape"
      ],
      "execution_count": 19,
      "outputs": [
        {
          "output_type": "execute_result",
          "data": {
            "text/plain": [
              "(16268, 300)"
            ]
          },
          "metadata": {
            "tags": []
          },
          "execution_count": 19
        }
      ]
    },
    {
      "cell_type": "code",
      "metadata": {
        "id": "ig0fgBKCIRNp",
        "colab_type": "code",
        "colab": {
          "base_uri": "https://localhost:8080/",
          "height": 220
        },
        "outputId": "8a20ce8f-74d6-4d69-f508-890aee052879"
      },
      "source": [
        "#pip install doesn't work, so use conda\n",
        "!pip install faiss-cpu --no-cache"
      ],
      "execution_count": 13,
      "outputs": [
        {
          "output_type": "stream",
          "text": [
            "Collecting faiss-cpu\n",
            "\u001b[?25l  Downloading https://files.pythonhosted.org/packages/1d/84/9de38703486d9f00b1a63590887a318d08c52f10f768968bd7626aee75da/faiss_cpu-1.6.3-cp36-cp36m-manylinux2010_x86_64.whl (7.2MB)\n",
            "\u001b[K     |████████████████████████████████| 7.2MB 2.7MB/s \n",
            "\u001b[?25hRequirement already satisfied: numpy in /usr/local/lib/python3.6/dist-packages (from faiss-cpu) (1.18.3)\n",
            "Installing collected packages: faiss-cpu\n",
            "Successfully installed faiss-cpu-1.6.3\n"
          ],
          "name": "stdout"
        }
      ]
    },
    {
      "cell_type": "code",
      "metadata": {
        "id": "_wboKJXMIRKa",
        "colab_type": "code",
        "colab": {
          "base_uri": "https://localhost:8080/",
          "height": 34
        },
        "outputId": "63c7e2da-652e-4dca-d993-717b70bfad43"
      },
      "source": [
        "#https://github.com/facebookresearch/faiss/blob/master/tutorial/python/1-Flat.py\n",
        "\n",
        "d = 300                           # dimension\n",
        "nb = 10000                      # database size\n",
        "nq = (len(author_vector) - 10000)                       # nb of queries\n",
        "\n",
        "import faiss                   \n",
        "index = faiss.IndexFlatL2(d)   # build the index\n",
        "print(index.is_trained)"
      ],
      "execution_count": 38,
      "outputs": [
        {
          "output_type": "stream",
          "text": [
            "True\n"
          ],
          "name": "stdout"
        }
      ]
    },
    {
      "cell_type": "code",
      "metadata": {
        "id": "2oOdMrvqMJRb",
        "colab_type": "code",
        "colab": {
          "base_uri": "https://localhost:8080/",
          "height": 34
        },
        "outputId": "3562ed0e-aa5f-49b0-9bd6-b137c9c1ab1b"
      },
      "source": [
        "author_vector = np.array(author_vectors[:10000], dtype='float32')\n",
        "query_vector = np.array(author_vectors[10000:], dtype='float32')\n",
        "index.add(author_vector)                 # add vectors to the index\n",
        "print(index.ntotal)"
      ],
      "execution_count": 39,
      "outputs": [
        {
          "output_type": "stream",
          "text": [
            "10000\n"
          ],
          "name": "stdout"
        }
      ]
    },
    {
      "cell_type": "code",
      "metadata": {
        "id": "rZjJMCPYIRIk",
        "colab_type": "code",
        "colab": {
          "base_uri": "https://localhost:8080/",
          "height": 306
        },
        "outputId": "12f0a411-72dd-4d90-93e5-d0e5217b16c3"
      },
      "source": [
        "k = 5                          # we want to see 4 nearest neighbors\n",
        "D, I = index.search(author_vector[:5], k) # sanity check\n",
        "print(I)\n",
        "print(D)\n",
        "D, I = index.search(query_vector, k)     # actual search\n",
        "print(I)                   # neighbors of the 5 first queries"
      ],
      "execution_count": 41,
      "outputs": [
        {
          "output_type": "stream",
          "text": [
            "[[   0 2633 4722 4754 6902]\n",
            " [   1 1140  505  404    2]\n",
            " [   2 8927    1 8221 5940]\n",
            " [   3 2521 4326 9612 4788]\n",
            " [   4 3182 6299 4975 9726]]\n",
            "[[0.         0.00014414 0.00015258 0.00016022 0.00018122]\n",
            " [0.         0.00079962 0.00080908 0.00085193 0.00088454]\n",
            " [0.         0.00082298 0.00088454 0.00091068 0.00091538]\n",
            " [0.         0.0009999  0.00101617 0.00105183 0.00109636]\n",
            " [0.         0.00177411 0.0018164  0.00184269 0.00187129]]\n",
            "[[7648 2899  884 6945 9602]\n",
            " [1832 7918 3682 4713  192]\n",
            " [4597 3024 8359 7315 2294]\n",
            " ...\n",
            " [5385  271 1099 6022 4229]\n",
            " [8237 7259  907 2418 9108]\n",
            " [ 366 2570 2672 7893 1170]]\n"
          ],
          "name": "stdout"
        }
      ]
    },
    {
      "cell_type": "code",
      "metadata": {
        "id": "fOriFzxpNVdA",
        "colab_type": "code",
        "colab": {}
      },
      "source": [
        ""
      ],
      "execution_count": 0,
      "outputs": []
    }
  ]
}